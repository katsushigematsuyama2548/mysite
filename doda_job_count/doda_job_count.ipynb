{
 "cells": [
  {
   "cell_type": "code",
   "execution_count": 1,
   "id": "11f309bc-0c6a-45e0-83b5-7c80710b9db8",
   "metadata": {},
   "outputs": [
    {
     "name": "stdout",
     "output_type": "stream",
     "text": [
      "Requirement already satisfied: requests in c:\\users\\katus\\anaconda3\\lib\\site-packages (2.31.0)\n",
      "Requirement already satisfied: charset-normalizer<4,>=2 in c:\\users\\katus\\anaconda3\\lib\\site-packages (from requests) (2.0.4)\n",
      "Requirement already satisfied: idna<4,>=2.5 in c:\\users\\katus\\anaconda3\\lib\\site-packages (from requests) (3.4)\n",
      "Requirement already satisfied: urllib3<3,>=1.21.1 in c:\\users\\katus\\anaconda3\\lib\\site-packages (from requests) (1.26.16)\n",
      "Requirement already satisfied: certifi>=2017.4.17 in c:\\users\\katus\\anaconda3\\lib\\site-packages (from requests) (2023.11.17)\n",
      "Requirement already satisfied: BeautifulSoup4 in c:\\users\\katus\\anaconda3\\lib\\site-packages (4.12.2)\n",
      "Requirement already satisfied: soupsieve>1.2 in c:\\users\\katus\\anaconda3\\lib\\site-packages (from BeautifulSoup4) (2.4)\n"
     ]
    }
   ],
   "source": [
    "import requests\n",
    "from bs4 import BeautifulSoup\n",
    "import pandas as pd\n",
    "import time\n",
    "\n",
    "base_url = \"https://doda.jp/DodaFront/View/CompanyJobs/j_id__\"\n",
    "\n",
    "data = []\n",
    "\n",
    "# CSVファイルから会社IDのリストを読み込む\n",
    "csv_file = 'company_ids.csv'\n",
    "company_IDs = pd.read_csv(csv_file)['Company_ID'].tolist()\n",
    "\n",
    "# 各企業の求人情報を取得\n",
    "for company_id in company_IDs:\n",
    "    url = f\"{base_url}{company_id}/\"\n",
    "    \n",
    "    try:\n",
    "        # HTTPリクエストを送信し、HTMLを取得\n",
    "        res = requests.get(url)\n",
    "        time.sleep(1)  # リクエスト間隔を1秒間隔にする\n",
    "        \n",
    "        # BeautifulSoupを使用してHTMLを解析\n",
    "        soup = BeautifulSoup(res.text, 'html.parser')\n",
    "        \n",
    "        # 必要な情報を取得\n",
    "        recruit_count = soup.find(class_=\"all_job_count search__listCount\")\n",
    "        n_recruit_count = int(recruit_count.text) if recruit_count else None\n",
    "        \n",
    "        company_name = soup.find(class_=\"name\").find('p').text.strip()\n",
    "        \n",
    "        employee_count = soup.find_all(class_=\"dateSet\")\n",
    "        n_employee_count = employee_count[1].find('dd').find('span').text\n",
    "        u_employee_count_fix = int(n_employee_count.replace(\",\", \"\")) if n_employee_count else None\n",
    "        \n",
    "        industry = soup.find(class_=\"measuringEffect_industry_textLink\").text.strip()\n",
    "        \n",
    "        job_title = soup.find(class_=\"seoLinkListOc\").text.replace(\"\\n\", \"\").replace(' ', '')\n",
    "        \n",
    "        id_info = url.split('id__')[-1].replace('/', '')\n",
    "        \n",
    "        # データを辞書に格納\n",
    "        datum = {\n",
    "            \"会社名\": company_name,\n",
    "            \"業種\": industry,\n",
    "            \"従業員数\": u_employee_count_fix,\n",
    "            \"募集職種\": job_title,\n",
    "            \"求人出稿数\": n_recruit_count,\n",
    "            \"URL\": url,\n",
    "            \"機関コード\": id_info\n",
    "        }\n",
    "        \n",
    "        data.append(datum)\n",
    "        \n",
    "        # 前回のデータと比較して求人出稿数の増加分を計算し、表示\n",
    "        previous_data = pd.read_csv('previous_data.csv')\n",
    "        previous_recruit_count = previous_data[previous_data['機関コード'] == id_info]['求人出稿数'].values\n",
    "        \n",
    "        if previous_recruit_count and n_recruit_count > previous_recruit_count:\n",
    "            increase = n_recruit_count - previous_recruit_count\n",
    "            print(f\"{company_name} の求人出稿数が {increase} 増加しました！\")\n",
    "            datum[\"増加分\"] = increase\n",
    "        else:\n",
    "            datum[\"増加分\"] = None\n",
    "    \n",
    "    except Exception as e:\n",
    "        print(f\"エラーが発生しました: {e}\")\n",
    "        continue\n",
    "\n",
    "# 新しいデータをDataFrameに変換してCSVに保存\n",
    "df = pd.DataFrame(data)\n",
    "df.to_csv('new_data.csv', index=False)"
   ]
  },
  {
   "cell_type": "code",
   "execution_count": null,
   "id": "8883257c-059d-49ff-90a1-28e437c6c779",
   "metadata": {
    "scrolled": true,
    "tags": []
   },
   "outputs": [],
   "source": []
  },
  {
   "cell_type": "code",
   "execution_count": null,
   "id": "2a13dc48-eb75-4982-9c3a-56d484d22bef",
   "metadata": {
    "scrolled": true,
    "tags": []
   },
   "outputs": [],
   "source": []
  },
  {
   "cell_type": "code",
   "execution_count": null,
   "id": "1a90ea81-3cc1-468c-bb70-8f9d1fe97a92",
   "metadata": {
    "scrolled": true,
    "tags": []
   },
   "outputs": [],
   "source": []
  },
  {
   "cell_type": "code",
   "execution_count": null,
   "id": "6199ac4f-ca82-44a2-ba8b-b2398f9ea22a",
   "metadata": {
    "tags": []
   },
   "outputs": [],
   "source": []
  },
  {
   "cell_type": "code",
   "execution_count": null,
   "id": "91fd6036-24e2-4cb8-93a0-3383eba6c357",
   "metadata": {
    "tags": []
   },
   "outputs": [],
   "source": []
  },
  {
   "cell_type": "code",
   "execution_count": null,
   "id": "bf5ab3a0-5ea2-4857-b40a-b276821a07dc",
   "metadata": {
    "tags": []
   },
   "outputs": [],
   "source": []
  },
  {
   "cell_type": "code",
   "execution_count": null,
   "id": "21b32be4-1a43-4d5c-b569-b62f61594efd",
   "metadata": {},
   "outputs": [],
   "source": []
  },
  {
   "cell_type": "code",
   "execution_count": null,
   "id": "9178f81b-811c-4b6b-8687-bfb872f9843b",
   "metadata": {
    "tags": []
   },
   "outputs": [],
   "source": []
  },
  {
   "cell_type": "code",
   "execution_count": null,
   "id": "93a31d93-65e5-4a8e-b3e0-0ab92310cb93",
   "metadata": {
    "tags": []
   },
   "outputs": [],
   "source": []
  },
  {
   "cell_type": "code",
   "execution_count": null,
   "id": "3ddf9bea-2a9d-42ac-96f7-a97d7a83be0b",
   "metadata": {
    "tags": []
   },
   "outputs": [],
   "source": []
  },
  {
   "cell_type": "code",
   "execution_count": null,
   "id": "83507487-1ec1-4ae0-8f3e-135371bc471c",
   "metadata": {
    "tags": []
   },
   "outputs": [],
   "source": []
  },
  {
   "cell_type": "code",
   "execution_count": null,
   "id": "0a3bacf7-12c2-4e57-a35e-c53bbc73d238",
   "metadata": {
    "tags": []
   },
   "outputs": [],
   "source": []
  },
  {
   "cell_type": "code",
   "execution_count": null,
   "id": "c77dabe8-6839-412d-99e7-ff0d59247086",
   "metadata": {
    "tags": []
   },
   "outputs": [],
   "source": []
  },
  {
   "cell_type": "code",
   "execution_count": null,
   "id": "d4f0a0e9-b450-4594-8abf-e00b045c1940",
   "metadata": {
    "tags": []
   },
   "outputs": [],
   "source": []
  },
  {
   "cell_type": "code",
   "execution_count": null,
   "id": "45204f3b-9d7f-4bb4-bee5-de71bce22e2b",
   "metadata": {
    "tags": []
   },
   "outputs": [],
   "source": []
  },
  {
   "cell_type": "code",
   "execution_count": null,
   "id": "c1506d8c-e248-4f94-a9c1-3d5b699851f0",
   "metadata": {
    "tags": []
   },
   "outputs": [],
   "source": []
  },
  {
   "cell_type": "code",
   "execution_count": null,
   "id": "7d8f59b0-27b0-44bd-856d-5358ef9e1124",
   "metadata": {
    "tags": []
   },
   "outputs": [],
   "source": []
  },
  {
   "cell_type": "code",
   "execution_count": null,
   "id": "279a9418-9457-4af3-a48b-b53cb57ddefe",
   "metadata": {},
   "outputs": [],
   "source": []
  },
  {
   "cell_type": "code",
   "execution_count": null,
   "id": "dec3263f-ba16-4005-85be-547ff6fda336",
   "metadata": {},
   "outputs": [],
   "source": []
  },
  {
   "cell_type": "code",
   "execution_count": null,
   "id": "c13b2d77-2def-42ba-8368-dda7be52619f",
   "metadata": {},
   "outputs": [],
   "source": []
  }
 ],
 "metadata": {
  "kernelspec": {
   "display_name": "Python 3 (ipykernel)",
   "language": "python",
   "name": "python3"
  },
  "language_info": {
   "codemirror_mode": {
    "name": "ipython",
    "version": 3
   },
   "file_extension": ".py",
   "mimetype": "text/x-python",
   "name": "python",
   "nbconvert_exporter": "python",
   "pygments_lexer": "ipython3",
   "version": "3.11.5"
  }
 },
 "nbformat": 4,
 "nbformat_minor": 5
}
